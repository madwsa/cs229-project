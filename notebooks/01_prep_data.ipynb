{
 "metadata": {
  "language_info": {
   "codemirror_mode": {
    "name": "ipython",
    "version": 3
   },
   "file_extension": ".py",
   "mimetype": "text/x-python",
   "name": "python",
   "nbconvert_exporter": "python",
   "pygments_lexer": "ipython3",
   "version": "3.6.11"
  },
  "orig_nbformat": 2,
  "kernelspec": {
   "name": "python3611jvsc74a57bd0d439693b67442d41dd33731c4bf36a7f9939a514b17407dc8b6a6a31d08d507a",
   "display_name": "Python 3.6.11 64-bit ('matcomp-proj': conda)"
  }
 },
 "nbformat": 4,
 "nbformat_minor": 2,
 "cells": [
  {
   "source": [
    "## Data source\n",
    "\n",
    "Data are from the famous [MovieLens 10M dataset](https://grouplens.org/datasets/movielens/10m/); 'MovieLens 10M movie ratings. Stable benchmark dataset. 10 million ratings and 100,000 tag applications applied to 10,000 movies by 72,000 users. Released 1/2009'\n",
    "\n",
    "Data are from the famous [MovieLens 1M dataset](https://grouplens.org/datasets/movielens/11m/); (quote here)"
   ],
   "cell_type": "markdown",
   "metadata": {}
  },
  {
   "cell_type": "code",
   "execution_count": 1,
   "metadata": {},
   "outputs": [],
   "source": [
    "# set project root\n",
    "import sys\n",
    "sys.path.append(\"../\")\n",
    "\n",
    "import pandas as pd\n",
    "from matplotlib import pyplot as plt\n",
    "import numpy as np\n",
    "import seaborn as sns\n",
    "import sys\n",
    "import pandas as pd\n",
    "import itertools\n",
    "\n",
    "from datetime import datetime, timedelta\n",
    "\n",
    "from reco_utils.dataset import movielens\n",
    "from reco_utils.dataset.download_utils import maybe_download\n",
    "from reco_utils.dataset.python_splitters import (\n",
    "    python_random_split, \n",
    "    python_chrono_split, \n",
    "    python_stratified_split\n",
    ")"
   ]
  },
  {
   "cell_type": "code",
   "execution_count": 2,
   "metadata": {},
   "outputs": [],
   "source": [
    "MOVIELENS_DATA_SIZE = '100k'\n",
    "SEED = 1066\n",
    "\n",
    "COL_USER = \"userID\"\n",
    "COL_ITEM = \"itemID\"\n",
    "COL_RATING = \"rating\"\n",
    "COL_TIMESTAMP = \"timestamp\""
   ]
  },
  {
   "cell_type": "code",
   "execution_count": 3,
   "metadata": {},
   "outputs": [
    {
     "output_type": "stream",
     "name": "stderr",
     "text": [
      "100%|██████████| 4.81k/4.81k [00:00<00:00, 22.5kKB/s]\n"
     ]
    },
    {
     "output_type": "execute_result",
     "data": {
      "text/plain": [
       "   userID  itemID  rating  timestamp\n",
       "0     196     242     3.0  881250949\n",
       "1     186     302     3.0  891717742\n",
       "2      22     377     1.0  878887116\n",
       "3     244      51     2.0  880606923\n",
       "4     166     346     1.0  886397596"
      ],
      "text/html": "<div>\n<style scoped>\n    .dataframe tbody tr th:only-of-type {\n        vertical-align: middle;\n    }\n\n    .dataframe tbody tr th {\n        vertical-align: top;\n    }\n\n    .dataframe thead th {\n        text-align: right;\n    }\n</style>\n<table border=\"1\" class=\"dataframe\">\n  <thead>\n    <tr style=\"text-align: right;\">\n      <th></th>\n      <th>userID</th>\n      <th>itemID</th>\n      <th>rating</th>\n      <th>timestamp</th>\n    </tr>\n  </thead>\n  <tbody>\n    <tr>\n      <th>0</th>\n      <td>196</td>\n      <td>242</td>\n      <td>3.0</td>\n      <td>881250949</td>\n    </tr>\n    <tr>\n      <th>1</th>\n      <td>186</td>\n      <td>302</td>\n      <td>3.0</td>\n      <td>891717742</td>\n    </tr>\n    <tr>\n      <th>2</th>\n      <td>22</td>\n      <td>377</td>\n      <td>1.0</td>\n      <td>878887116</td>\n    </tr>\n    <tr>\n      <th>3</th>\n      <td>244</td>\n      <td>51</td>\n      <td>2.0</td>\n      <td>880606923</td>\n    </tr>\n    <tr>\n      <th>4</th>\n      <td>166</td>\n      <td>346</td>\n      <td>1.0</td>\n      <td>886397596</td>\n    </tr>\n  </tbody>\n</table>\n</div>"
     },
     "metadata": {},
     "execution_count": 3
    }
   ],
   "source": [
    "full = movielens.load_pandas_df(size=MOVIELENS_DATA_SIZE).drop_duplicates()\n",
    "\n",
    "full.head()"
   ]
  },
  {
   "cell_type": "code",
   "execution_count": 4,
   "metadata": {},
   "outputs": [
    {
     "output_type": "execute_result",
     "data": {
      "text/plain": [
       "             userID         itemID         rating     timestamp\n",
       "count  100000.00000  100000.000000  100000.000000  1.000000e+05\n",
       "mean      462.48475     425.530130       3.529860  8.835289e+08\n",
       "std       266.61442     330.798356       1.125674  5.343856e+06\n",
       "min         1.00000       1.000000       1.000000  8.747247e+08\n",
       "25%       254.00000     175.000000       3.000000  8.794487e+08\n",
       "50%       447.00000     322.000000       4.000000  8.828269e+08\n",
       "75%       682.00000     631.000000       4.000000  8.882600e+08\n",
       "max       943.00000    1682.000000       5.000000  8.932866e+08"
      ],
      "text/html": "<div>\n<style scoped>\n    .dataframe tbody tr th:only-of-type {\n        vertical-align: middle;\n    }\n\n    .dataframe tbody tr th {\n        vertical-align: top;\n    }\n\n    .dataframe thead th {\n        text-align: right;\n    }\n</style>\n<table border=\"1\" class=\"dataframe\">\n  <thead>\n    <tr style=\"text-align: right;\">\n      <th></th>\n      <th>userID</th>\n      <th>itemID</th>\n      <th>rating</th>\n      <th>timestamp</th>\n    </tr>\n  </thead>\n  <tbody>\n    <tr>\n      <th>count</th>\n      <td>100000.00000</td>\n      <td>100000.000000</td>\n      <td>100000.000000</td>\n      <td>1.000000e+05</td>\n    </tr>\n    <tr>\n      <th>mean</th>\n      <td>462.48475</td>\n      <td>425.530130</td>\n      <td>3.529860</td>\n      <td>8.835289e+08</td>\n    </tr>\n    <tr>\n      <th>std</th>\n      <td>266.61442</td>\n      <td>330.798356</td>\n      <td>1.125674</td>\n      <td>5.343856e+06</td>\n    </tr>\n    <tr>\n      <th>min</th>\n      <td>1.00000</td>\n      <td>1.000000</td>\n      <td>1.000000</td>\n      <td>8.747247e+08</td>\n    </tr>\n    <tr>\n      <th>25%</th>\n      <td>254.00000</td>\n      <td>175.000000</td>\n      <td>3.000000</td>\n      <td>8.794487e+08</td>\n    </tr>\n    <tr>\n      <th>50%</th>\n      <td>447.00000</td>\n      <td>322.000000</td>\n      <td>4.000000</td>\n      <td>8.828269e+08</td>\n    </tr>\n    <tr>\n      <th>75%</th>\n      <td>682.00000</td>\n      <td>631.000000</td>\n      <td>4.000000</td>\n      <td>8.882600e+08</td>\n    </tr>\n    <tr>\n      <th>max</th>\n      <td>943.00000</td>\n      <td>1682.000000</td>\n      <td>5.000000</td>\n      <td>8.932866e+08</td>\n    </tr>\n  </tbody>\n</table>\n</div>"
     },
     "metadata": {},
     "execution_count": 4
    }
   ],
   "source": [
    "full.describe()"
   ]
  },
  {
   "cell_type": "code",
   "execution_count": 5,
   "metadata": {},
   "outputs": [],
   "source": [
    "popularity = full.groupby(['itemID']).count()\n",
    "popularity.to_csv('popularity.csv')"
   ]
  },
  {
   "cell_type": "code",
   "execution_count": 6,
   "metadata": {},
   "outputs": [
    {
     "output_type": "stream",
     "name": "stdout",
     "text": [
      "===full===\nTotal number of ratings are\t100000\nTotal number of users are\t943\nTotal number of items are\t1682\nMinimum # ratings / user is\t20\n"
     ]
    }
   ],
   "source": [
    "def moviedata_describe(df, part=\"full\"):\n",
    "    print(\n",
    "        \"==={}===\".format(part),\n",
    "        \"Total number of ratings are\\t{}\".format(df.shape[0]),\n",
    "        \"Total number of users are\\t{}\".format(df[COL_USER].nunique()),\n",
    "        \"Total number of items are\\t{}\".format(df[COL_ITEM].nunique()),\n",
    "        \"Minimum # ratings / user is\\t{}\" \\\n",
    "            .format(full[COL_USER].value_counts().iloc[-1]),\n",
    "        sep=\"\\n\"\n",
    "    )\n",
    "\n",
    "moviedata_describe(full)"
   ]
  },
  {
   "source": [
    "Want to split into 70% TRAIN / 15% VALIDATE / 15% TEST, stratified such that each partition has at least one rating from every user and at least one rating for every movie.  reco_utils only lets us stratify by one or the other; fortunately [Taylor G. Smith has a gist](https://gist.github.com/tgsmith61591/ce7d614d7a0442f94cd5ae5d1e51d3c2) that might help us."
   ],
   "cell_type": "markdown",
   "metadata": {}
  },
  {
   "cell_type": "code",
   "execution_count": 7,
   "metadata": {},
   "outputs": [
    {
     "output_type": "stream",
     "name": "stderr",
     "text": [
      "/anaconda/envs/matcomp-proj/lib/python3.6/site-packages/sklearn/externals/six.py:31: DeprecationWarning: The module is deprecated in version 0.21 and will be removed in version 0.23 since we've dropped support for Python 2.7. Please rely on the official version of six (https://pypi.org/project/six/).\n  \"(https://pypi.org/project/six/).\", DeprecationWarning)\n"
     ]
    }
   ],
   "source": [
    "from upstream.collab_split import get_stratified_tr_mask\n",
    "\n",
    "def get_mask(df, train_size):\n",
    "    return get_stratified_tr_mask(\n",
    "        df[COL_USER].to_numpy(), \n",
    "        df[COL_ITEM].to_numpy(), \n",
    "        train_size=train_size, \n",
    "        random_state=SEED\n",
    "    )\n",
    "\n",
    "train_mask = get_mask(full, 0.7)\n",
    "train = full[train_mask]\n",
    "rest = full[~train_mask]\n",
    "\n",
    "val_mask = get_mask(rest, 0.5)\n",
    "val = rest[val_mask]\n",
    "test = rest[~val_mask]"
   ]
  },
  {
   "cell_type": "code",
   "execution_count": 8,
   "metadata": {},
   "outputs": [
    {
     "output_type": "stream",
     "name": "stdout",
     "text": [
      "===train===\nTotal number of ratings are\t69998\nTotal number of users are\t943\nTotal number of items are\t1682\nMinimum # ratings / user is\t20\n===val===\nTotal number of ratings are\t15219\nTotal number of users are\t943\nTotal number of items are\t1443\nMinimum # ratings / user is\t20\n===test===\nTotal number of ratings are\t14783\nTotal number of users are\t940\nTotal number of items are\t1243\nMinimum # ratings / user is\t20\n"
     ]
    }
   ],
   "source": [
    "moviedata_describe(train, part=\"train\")\n",
    "moviedata_describe(val, part=\"val\")\n",
    "moviedata_describe(test, part=\"test\")"
   ]
  },
  {
   "source": [
    "Well, UNFORTUNATELY, that didn't seem to do quite what was wanted, but it looks like it got us close.  Let's just try the set intersection and see what we get."
   ],
   "cell_type": "markdown",
   "metadata": {}
  },
  {
   "cell_type": "code",
   "execution_count": 9,
   "metadata": {},
   "outputs": [],
   "source": [
    "all_users = set.intersection(set(train[COL_USER]), set(val[COL_USER]), set(test[COL_USER]))\n",
    "all_movies = set.intersection(set(train[COL_ITEM]), set(val[COL_ITEM]), set(test[COL_ITEM]))"
   ]
  },
  {
   "cell_type": "code",
   "execution_count": 10,
   "metadata": {},
   "outputs": [],
   "source": [
    "def intersect_ratings(df):\n",
    "    return df[\n",
    "        df[COL_ITEM].isin(all_movies) & df[COL_USER].isin(all_users)\n",
    "    ]\n",
    "\n",
    "train_final = intersect_ratings(train)\n",
    "val_final = intersect_ratings(val)\n",
    "test_final = intersect_ratings(test)"
   ]
  },
  {
   "cell_type": "code",
   "execution_count": 11,
   "metadata": {},
   "outputs": [
    {
     "output_type": "stream",
     "name": "stdout",
     "text": [
      "===train===\nTotal number of ratings are\t68582\nTotal number of users are\t940\nTotal number of items are\t1243\nMinimum # ratings / user is\t20\n===val===\nTotal number of ratings are\t14936\nTotal number of users are\t940\nTotal number of items are\t1243\nMinimum # ratings / user is\t20\n===test===\nTotal number of ratings are\t14783\nTotal number of users are\t940\nTotal number of items are\t1243\nMinimum # ratings / user is\t20\n"
     ]
    }
   ],
   "source": [
    "moviedata_describe(train_final, part=\"train\")\n",
    "moviedata_describe(val_final, part=\"val\")\n",
    "moviedata_describe(test_final, part=\"test\")"
   ]
  },
  {
   "cell_type": "code",
   "execution_count": 12,
   "metadata": {},
   "outputs": [
    {
     "output_type": "stream",
     "name": "stdout",
     "text": [
      "True\nTrue\nTrue\nTrue\n"
     ]
    }
   ],
   "source": [
    "print(\n",
    "    set(train_final[COL_USER]) == set(test_final[COL_USER]),\n",
    "    set(val_final[COL_USER]) == set(train_final[COL_USER]),\n",
    "    set(train_final[COL_ITEM]) == set(test_final[COL_ITEM]),\n",
    "    set(val_final[COL_ITEM]) == set(train_final[COL_ITEM]),\n",
    "    sep=\"\\n\"\n",
    ")\n",
    "\n",
    "# any false and we need to check\n"
   ]
  },
  {
   "cell_type": "code",
   "execution_count": 13,
   "metadata": {},
   "outputs": [],
   "source": [
    "# to_feather\n",
    "train_final.reset_index().to_feather('../data/train' + MOVIELENS_DATA_SIZE + '.feather')\n",
    "val_final.reset_index().to_feather('../data/val' + MOVIELENS_DATA_SIZE + '.feather')\n",
    "test_final.reset_index().to_feather('../data/test' + MOVIELENS_DATA_SIZE + '.feather')\n"
   ]
  },
  {
   "cell_type": "code",
   "execution_count": 14,
   "metadata": {},
   "outputs": [],
   "source": [
    "# to_parquet\n",
    "train_final.reset_index().to_parquet('../data/train' + MOVIELENS_DATA_SIZE + '.parquet')\n",
    "val_final.reset_index().to_parquet('../data/val' + MOVIELENS_DATA_SIZE + '.parquet')\n",
    "test_final.reset_index().to_parquet('../data/test' + MOVIELENS_DATA_SIZE + '.parquet')"
   ]
  },
  {
   "cell_type": "code",
   "execution_count": 15,
   "metadata": {},
   "outputs": [],
   "source": [
    "# make full user / item table\n",
    "# \n",
    "# leave it to pandas to take a simple concept and make it super difficult\n",
    "df_users = pd.DataFrame(list(all_users))\n",
    "df_users['key'] = 1\n",
    "\n",
    "df_movies = pd.DataFrame(list(all_movies))\n",
    "df_movies['key'] = 1\n",
    "\n",
    "full = pd.merge(df_users, df_movies, on='key').drop('key', 1)\n",
    "full.columns = ['userID', 'itemID']\n",
    "\n",
    "full.reset_index().to_feather('../data/full_indices' + MOVIELENS_DATA_SIZE + '.feather')"
   ]
  }
 ]
}