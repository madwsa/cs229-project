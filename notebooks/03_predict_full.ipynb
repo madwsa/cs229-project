{
 "metadata": {
  "language_info": {
   "codemirror_mode": {
    "name": "ipython",
    "version": 3
   },
   "file_extension": ".py",
   "mimetype": "text/x-python",
   "name": "python",
   "nbconvert_exporter": "python",
   "pygments_lexer": "ipython3",
   "version": "3.6.11"
  },
  "orig_nbformat": 2,
  "kernelspec": {
   "name": "python3611jvsc74a57bd0d439693b67442d41dd33731c4bf36a7f9939a514b17407dc8b6a6a31d08d507a",
   "display_name": "Python 3.6.11 64-bit ('matcomp-proj': conda)"
  }
 },
 "nbformat": 4,
 "nbformat_minor": 2,
 "cells": [
  {
   "cell_type": "code",
   "execution_count": 20,
   "metadata": {},
   "outputs": [
    {
     "output_type": "stream",
     "name": "stdout",
     "text": [
      "System version: 3.6.11 | packaged by conda-forge | (default, Nov 27 2020, 18:57:37) \n[GCC 9.3.0]\nPyTorch version: 1.4.0\nCornac version: 1.12.0\n"
     ]
    }
   ],
   "source": [
    "import sys\n",
    "sys.path.append(\"../\")\n",
    "import os\n",
    "import torch\n",
    "import cornac\n",
    "import papermill as pm\n",
    "import scrapbook as sb\n",
    "import pandas as pd\n",
    "import numpy as np\n",
    "from reco_utils.dataset import movielens\n",
    "from reco_utils.dataset.python_splitters import python_random_split\n",
    "from reco_utils.evaluation.python_evaluation import map_at_k, ndcg_at_k, precision_at_k, recall_at_k\n",
    "from reco_utils.recommender.cornac.cornac_utils import predict_ranking, predict\n",
    "from reco_utils.common.timer import Timer\n",
    "from reco_utils.common.constants import SEED\n",
    "\n",
    "print(\"System version: {}\".format(sys.version))\n",
    "print(\"PyTorch version: {}\".format(torch.__version__))\n",
    "print(\"Cornac version: {}\".format(cornac.__version__))\n",
    "\n",
    "from hyperopt import fmin, tpe, hp, STATUS_OK, Trials\n",
    "from hyperopt.pyll.base import scope\n",
    "from hyperopt.pyll.stochastic import sample"
   ]
  },
  {
   "source": [
    "### Load data from our saved .parquet\n",
    "\n",
    "**To work with models implemented in Cornac, we need to construct an object from Dataset class.** (!!!)"
   ],
   "cell_type": "markdown",
   "metadata": {}
  },
  {
   "cell_type": "code",
   "execution_count": 2,
   "metadata": {},
   "outputs": [],
   "source": [
    "SEED = 1066"
   ]
  },
  {
   "cell_type": "code",
   "execution_count": 3,
   "metadata": {},
   "outputs": [],
   "source": [
    "train = pd.read_parquet('../data/train1m.parquet').drop('index', 1)\n",
    "val = pd.read_parquet('../data/val1m.parquet').drop('index', 1)\n",
    "test = pd.read_parquet('../data/test1m.parquet').drop('index', 1)\n",
    "\n",
    "def to_cornac_Dataset(x):\n",
    "    return cornac.data.Dataset.from_uir(x.itertuples(index=False))\n",
    "\n",
    "c_train = to_cornac_Dataset(train)\n",
    "c_val = to_cornac_Dataset(val)\n",
    "c_test = to_cornac_Dataset(test)\n",
    "\n",
    "c_train = cornac.data.Dataset.from_uir(train.itertuples(index=False))\n"
   ]
  },
  {
   "cell_type": "code",
   "execution_count": 4,
   "metadata": {},
   "outputs": [],
   "source": [
    "full = pd.read_feather('../data/full_indices1mk.feather').drop('index', 1)\n",
    "i_100k = pd.read_feather('../data/full_indices100k.feather').drop('index', 1)"
   ]
  },
  {
   "source": [
    "### Train using selected hyperparameters"
   ],
   "cell_type": "markdown",
   "metadata": {}
  },
  {
   "cell_type": "code",
   "execution_count": 5,
   "metadata": {},
   "outputs": [
    {
     "output_type": "display_data",
     "data": {
      "text/plain": "  0%|          | 0/400 [00:00<?, ?it/s]",
      "application/vnd.jupyter.widget-view+json": {
       "version_major": 2,
       "version_minor": 0,
       "model_id": "efb5b112ac654947807dba3e97a0e0ec"
      }
     },
     "metadata": {}
    },
    {
     "output_type": "execute_result",
     "data": {
      "text/plain": [
       "<cornac.models.bivaecf.recom_bivaecf.BiVAECF at 0x7ff6bd033e10>"
      ]
     },
     "metadata": {},
     "execution_count": 5
    }
   ],
   "source": [
    "bivae = cornac.models.BiVAECF(\n",
    "    k=30,\n",
    "    encoder_structure=[200],\n",
    "    act_fn='tanh',\n",
    "    likelihood='pois',\n",
    "    n_epochs=400,\n",
    "    batch_size=64,\n",
    "    learning_rate=0.00253293728177303,\n",
    "    seed=SEED,\n",
    "    use_gpu=torch.cuda.is_available(),\n",
    "    verbose=True\n",
    ")\n",
    "\n",
    "bivae.fit(c_train)"
   ]
  },
  {
   "cell_type": "code",
   "execution_count": 6,
   "metadata": {},
   "outputs": [],
   "source": [
    "full_pred_bivae = predict(bivae, full, usercol='userID', itemcol='itemID')\n",
    "i_100k_pred_bivae = predict(bivae, i_100k, usercol='userID', itemcol='itemID')"
   ]
  },
  {
   "cell_type": "code",
   "execution_count": 7,
   "metadata": {},
   "outputs": [
    {
     "output_type": "display_data",
     "data": {
      "text/plain": "  0%|          | 0/100 [00:00<?, ?it/s]",
      "application/vnd.jupyter.widget-view+json": {
       "version_major": 2,
       "version_minor": 0,
       "model_id": "73a5fe270d3e4c818d73cf63c48aa3bc"
      }
     },
     "metadata": {}
    },
    {
     "output_type": "stream",
     "name": "stdout",
     "text": [
      "Optimization finished!\n"
     ]
    },
    {
     "output_type": "execute_result",
     "data": {
      "text/plain": [
       "<cornac.models.bpr.recom_bpr.BPR at 0x7ff6a2a97e80>"
      ]
     },
     "metadata": {},
     "execution_count": 7
    }
   ],
   "source": [
    "bpr = cornac.models.BPR(\n",
    "    k=120, \n",
    "    learning_rate=0.009890968453212743, \n",
    "    seed=SEED,\n",
    "    verbose=True\n",
    ")\n",
    "\n",
    "bpr.fit(c_train)"
   ]
  },
  {
   "cell_type": "code",
   "execution_count": 8,
   "metadata": {},
   "outputs": [],
   "source": [
    "full_pred_bpr = predict(bpr, full, usercol='userID', itemcol='itemID')\n",
    "i_100k_pred_bpr = predict(bpr, i_100k, usercol='userID', itemcol='itemID')"
   ]
  },
  {
   "cell_type": "code",
   "execution_count": 16,
   "metadata": {},
   "outputs": [],
   "source": [
    "## fix the resulting datasets and export\n",
    "\n",
    "full_pred_bivae['prediction'] = [x[0] for x in full_pred_bivae['prediction']]"
   ]
  },
  {
   "cell_type": "code",
   "execution_count": 22,
   "metadata": {},
   "outputs": [],
   "source": [
    "full_pred_bpr['prediction'] = full_pred_bpr['prediction'].astype(np.float64)"
   ]
  },
  {
   "cell_type": "code",
   "execution_count": 24,
   "metadata": {},
   "outputs": [
    {
     "output_type": "stream",
     "name": "stdout",
     "text": [
      "userID          int64\nitemID          int64\nprediction    float64\ndtype: object\nuserID          int64\nitemID          int64\nprediction    float64\ndtype: object\n"
     ]
    }
   ],
   "source": [
    "print(full_pred_bivae.dtypes)\n",
    "print(full_pred_bpr.dtypes)"
   ]
  },
  {
   "cell_type": "code",
   "execution_count": 25,
   "metadata": {},
   "outputs": [],
   "source": [
    "full_pred_bivae.reset_index().to_feather('../data/full_pred_bivae_1m.feather')\n",
    "full_pred_bpr.reset_index().to_feather('../data/full_pred_bpr_1m.feather')\n",
    "i_100k_pred_bivae.reset_index().to_feather('../data/full_pred_bivae_100k.feather')\n",
    "i_100k_pred_bpr.reset_index().to_feather('../data/full_pred_bpr_100k.feather')\n"
   ]
  },
  {
   "cell_type": "code",
   "execution_count": null,
   "metadata": {},
   "outputs": [],
   "source": []
  }
 ]
}