{
 "metadata": {
  "language_info": {
   "codemirror_mode": {
    "name": "ipython",
    "version": 3
   },
   "file_extension": ".py",
   "mimetype": "text/x-python",
   "name": "python",
   "nbconvert_exporter": "python",
   "pygments_lexer": "ipython3",
   "version": "3.6.11"
  },
  "orig_nbformat": 2,
  "kernelspec": {
   "name": "python3611jvsc74a57bd0d439693b67442d41dd33731c4bf36a7f9939a514b17407dc8b6a6a31d08d507a",
   "display_name": "Python 3.6.11 64-bit ('matcomp-proj': conda)"
  }
 },
 "nbformat": 4,
 "nbformat_minor": 2,
 "cells": [
  {
   "cell_type": "code",
   "execution_count": 8,
   "metadata": {},
   "outputs": [],
   "source": [
    "import numpy as np\n",
    "import cornac\n",
    "from cornac.datasets import movielens, amazon_digital_music\n",
    "from cornac.eval_methods import RatioSplit\n",
    "from cornac.hyperopt import Discrete, Continuous\n",
    "from cornac.hyperopt import GridSearch, RandomSearch\n",
    "\n",
    "from cornac.models import ItemKNN, MF, BPR, BiVAECF, NeuMF\n",
    "from cornac.metrics import MAE, RMSE, Precision, Recall, NDCG, AUC, MAP"
   ]
  },
  {
   "cell_type": "code",
   "execution_count": 9,
   "metadata": {},
   "outputs": [],
   "source": [
    "SEED = 1066\n",
    "RS_TRAILS = 10"
   ]
  },
  {
   "source": [
    "### Prepare datasets with train / test split\n"
   ],
   "cell_type": "markdown",
   "metadata": {}
  },
  {
   "cell_type": "code",
   "execution_count": 10,
   "metadata": {},
   "outputs": [],
   "source": [
    "ml_1mm = movielens.load_feedback(variant=\"1m\")\n",
    "\n",
    "ml_rs = RatioSplit(\n",
    "    data=ml_1mm, \n",
    "    test_size=0.15, \n",
    "    val_size=0.1, \n",
    "    seed=SEED, \n",
    "    rating_threshold = 4.0\n",
    ")\n",
    "\n",
    "amzn = amazon_digital_music.load_feedback()\n",
    "\n",
    "amzn_rs = RatioSplit(\n",
    "    data=amzn,\n",
    "    test_size=0.15, \n",
    "    val_size=0.1, \n",
    "    seed=SEED, \n",
    "    rating_threshold = 4.0\n",
    ")\n",
    "\n",
    "## CHANGE THIS TO CHANGE THE DATASET\n",
    "rs = ml_rs"
   ]
  },
  {
   "source": [
    "### Instantiate models"
   ],
   "cell_type": "markdown",
   "metadata": {}
  },
  {
   "cell_type": "code",
   "execution_count": 11,
   "metadata": {},
   "outputs": [],
   "source": [
    "itemknn = ItemKNN(\n",
    "    k=20, \n",
    "    similarity=\"cosine\", \n",
    "    seed=SEED\n",
    ")\n",
    "\n",
    "mf = MF(\n",
    "    k=20, \n",
    "    learning_rate=0.01, \n",
    "    early_stop=True, \n",
    "    seed=SEED\n",
    ")\n",
    "\n",
    "bpr = BPR(\n",
    "    k=20, \n",
    "    learning_rate=0.01, \n",
    "    seed=SEED\n",
    ")\n",
    "\n",
    "bivae = BiVAECF(\n",
    "    k=10, \n",
    "    encoder_structure=[200], \n",
    "    n_epochs=400, \n",
    "    batch_size=100, \n",
    "    learning_rate=0.001,\n",
    "    use_gpu=True,\n",
    "    seed=SEED\n",
    ")"
   ]
  },
  {
   "source": [
    "### Define hyperparameter search spaces"
   ],
   "cell_type": "markdown",
   "metadata": {}
  },
  {
   "cell_type": "code",
   "execution_count": 12,
   "metadata": {},
   "outputs": [],
   "source": [
    "gs_itemknn = GridSearch(\n",
    "    model=itemknn,\n",
    "    space=[\n",
    "        Discrete('k', np.arange(6, 21, 2))\n",
    "    ],\n",
    "    metric=RMSE(),\n",
    "    eval_method=rs\n",
    ")\n",
    "\n",
    "rs_mf = RandomSearch(\n",
    "    model=mf,\n",
    "    space=[\n",
    "        Discrete('k', np.arange(50, 151, 10)),\n",
    "        Continuous(\"learning_rate\", low = 0.0001, high = 0.01)\n",
    "    ],\n",
    "    metric=RMSE(),\n",
    "    eval_method=rs,\n",
    "    n_trails=RS_TRAILS\n",
    ")\n",
    "\n",
    "rs_bpr = RandomSearch(\n",
    "    model=bpr,\n",
    "    space=[\n",
    "        Discrete('k', np.arange(50, 151, 10)),\n",
    "        Continuous(\"learning_rate\", low = 0.0001, high = 0.01)\n",
    "    ],\n",
    "    metric=AUC(),\n",
    "    eval_method=rs,\n",
    "    n_trails=RS_TRAILS\n",
    ")\n",
    "\n",
    "rs_bivae = RandomSearch(\n",
    "    model=bivae,\n",
    "    space=[\n",
    "        Discrete('k', np.array([10, 20, 30])),\n",
    "        Discrete('batch_size', np.array([16, 32, 64, 128])),\n",
    "        Continuous('learning_rate', low = 0.0001, high = 0.01)\n",
    "    ],\n",
    "    metric=RMSE(),\n",
    "    eval_method=rs,\n",
    "    n_trails=RS_TRAILS\n",
    ")"
   ]
  },
  {
   "source": [
    "### Run all experiments"
   ],
   "cell_type": "markdown",
   "metadata": {}
  },
  {
   "cell_type": "code",
   "execution_count": 13,
   "metadata": {},
   "outputs": [],
   "source": [
    "experiments_all = cornac.Experiment(\n",
    "    eval_method=rs,\n",
    "    models=[\n",
    "        gs_itemknn,\n",
    "        rs_mf,\n",
    "        rs_bpr,\n",
    "        rs_bivae\n",
    "    ],\n",
    "    metrics = [MAE(), RMSE(), Precision(k=10), Recall(k=10), NDCG(k=10), AUC(), MAP()],\n",
    "    verbose = True\n",
    ")"
   ]
  },
  {
   "cell_type": "code",
   "execution_count": 14,
   "metadata": {},
   "outputs": [
    {
     "output_type": "stream",
     "name": "stdout",
     "text": [
      "Evaluating: {'k': 6}\n"
     ]
    },
    {
     "output_type": "display_data",
     "data": {
      "text/plain": "  0%|          | 0/3673 [00:00<?, ?it/s]",
      "application/vnd.jupyter.widget-view+json": {
       "version_major": 2,
       "version_minor": 0,
       "model_id": "8ebdc470228748aab2883b1c97d4853a"
      }
     },
     "metadata": {}
    },
    {
     "output_type": "stream",
     "name": "stdout",
     "text": [
      "Evaluating: {'k': 8}\n"
     ]
    },
    {
     "output_type": "display_data",
     "data": {
      "text/plain": "  0%|          | 0/3673 [00:00<?, ?it/s]",
      "application/vnd.jupyter.widget-view+json": {
       "version_major": 2,
       "version_minor": 0,
       "model_id": "79fb069abb38459e89cf795e97a14779"
      }
     },
     "metadata": {}
    },
    {
     "output_type": "stream",
     "name": "stdout",
     "text": [
      "Evaluating: {'k': 10}\n"
     ]
    },
    {
     "output_type": "display_data",
     "data": {
      "text/plain": "  0%|          | 0/3673 [00:00<?, ?it/s]",
      "application/vnd.jupyter.widget-view+json": {
       "version_major": 2,
       "version_minor": 0,
       "model_id": "c266c775adea4685b50e66e065bacacb"
      }
     },
     "metadata": {}
    },
    {
     "output_type": "stream",
     "name": "stdout",
     "text": [
      "Evaluating: {'k': 12}\n"
     ]
    },
    {
     "output_type": "display_data",
     "data": {
      "text/plain": "  0%|          | 0/3673 [00:00<?, ?it/s]",
      "application/vnd.jupyter.widget-view+json": {
       "version_major": 2,
       "version_minor": 0,
       "model_id": "073de435c37a4506ae1b0b7f0e0f72c9"
      }
     },
     "metadata": {}
    },
    {
     "output_type": "stream",
     "name": "stdout",
     "text": [
      "Evaluating: {'k': 14}\n"
     ]
    },
    {
     "output_type": "display_data",
     "data": {
      "text/plain": "  0%|          | 0/3673 [00:00<?, ?it/s]",
      "application/vnd.jupyter.widget-view+json": {
       "version_major": 2,
       "version_minor": 0,
       "model_id": "897f4982cad248a4891edce7904ed7b4"
      }
     },
     "metadata": {}
    },
    {
     "output_type": "stream",
     "name": "stdout",
     "text": [
      "Evaluating: {'k': 16}\n"
     ]
    },
    {
     "output_type": "display_data",
     "data": {
      "text/plain": "  0%|          | 0/3673 [00:00<?, ?it/s]",
      "application/vnd.jupyter.widget-view+json": {
       "version_major": 2,
       "version_minor": 0,
       "model_id": "c70d02068e7e42709d821c2dad818747"
      }
     },
     "metadata": {}
    },
    {
     "output_type": "stream",
     "name": "stdout",
     "text": [
      "Evaluating: {'k': 18}\n"
     ]
    },
    {
     "output_type": "display_data",
     "data": {
      "text/plain": "  0%|          | 0/3673 [00:00<?, ?it/s]",
      "application/vnd.jupyter.widget-view+json": {
       "version_major": 2,
       "version_minor": 0,
       "model_id": "f58a0bb382e24437bed71954e7f6dda4"
      }
     },
     "metadata": {}
    },
    {
     "output_type": "stream",
     "name": "stdout",
     "text": [
      "Evaluating: {'k': 20}\n"
     ]
    },
    {
     "output_type": "display_data",
     "data": {
      "text/plain": "  0%|          | 0/3673 [00:00<?, ?it/s]",
      "application/vnd.jupyter.widget-view+json": {
       "version_major": 2,
       "version_minor": 0,
       "model_id": "e0fb7d8a67d94fd9a9ab8e0588edfbd7"
      }
     },
     "metadata": {}
    },
    {
     "output_type": "stream",
     "name": "stdout",
     "text": [
      "Best parameter settings: {'k': 20}\n",
      "RMSE = 1.0123\n",
      "\n",
      "VALIDATION:\n",
      "...\n",
      "                     |    MAE |   RMSE |    AUC |    MAP | NDCG@10 | Precision@10 | Recall@10 | Time (s)\n",
      "-------------------- + ------ + ------ + ------ + ------ + ------- + ------------ + --------- + --------\n",
      "GridSearch_ItemKNN   | 0.8012 | 0.9647 | 0.7436 | 0.0129 |  0.0059 |       0.0068 |    0.0046 | 286.3399\n",
      "RandomSearch_MF      | 0.6969 | 0.8343 | 0.7882 | 0.0291 |  0.0383 |       0.0293 |    0.0382 |  32.3292\n",
      "RandomSearch_BPR     | 1.7668 | 1.9728 | 0.9355 | 0.0681 |  0.0791 |       0.0533 |    0.0915 |  32.6402\n",
      "RandomSearch_BiVAECF | 1.6557 | 1.9022 | 0.9326 | 0.0641 |  0.0737 |       0.0497 |    0.0869 |  24.6502\n",
      "\n",
      "TEST:\n",
      "...\n",
      "                     |    MAE |   RMSE |    AUC |    MAP | NDCG@10 | Precision@10 | Recall@10 | Train (s) | Test (s)\n",
      "-------------------- + ------ + ------ + ------ + ------ + ------- + ------------ + --------- + --------- + --------\n",
      "GridSearch_ItemKNN   | 0.7914 | 0.9673 | 0.7401 | 0.0166 |  0.0084 |       0.0097 |    0.0048 |  167.4485 | 305.3404\n",
      "RandomSearch_MF      | 0.6871 | 0.8337 | 0.7868 | 0.0338 |  0.0476 |       0.0399 |    0.0360 |   35.3133 |  34.9253\n",
      "RandomSearch_BPR     | 1.7601 | 1.9782 | 0.9373 | 0.0819 |  0.0989 |       0.0769 |    0.0896 |  537.4976 |  34.0695\n",
      "RandomSearch_BiVAECF | 1.6477 | 1.9084 | 0.9354 | 0.0771 |  0.0909 |       0.0703 |    0.0841 | 5747.5622 |  32.7193\n",
      "\n"
     ]
    }
   ],
   "source": [
    "experiments_all.run()"
   ]
  },
  {
   "source": [
    "When done: print out what the best hyperparameters were, predict on full matrix for lassonet"
   ],
   "cell_type": "markdown",
   "metadata": {}
  },
  {
   "cell_type": "code",
   "execution_count": 16,
   "metadata": {},
   "outputs": [
    {
     "output_type": "stream",
     "name": "stdout",
     "text": [
      "BiVAECF: {'batch_size': 64, 'k': 30, 'learning_rate': 0.00253293728177303}\nMF: {'k': 150, 'learning_rate': 0.008371656128287192}\nBPR: {'k': 120, 'learning_rate': 0.009890968453212743}\nItemKNN: {'k': 20}\n"
     ]
    }
   ],
   "source": [
    "print('BiVAECF:', rs_bivae.best_params)\n",
    "print('MF:', rs_mf.best_params)\n",
    "print('BPR:', rs_bpr.best_params)\n",
    "print('ItemKNN:', gs_itemknn.best_params)"
   ]
  },
  {
   "cell_type": "code",
   "execution_count": null,
   "metadata": {},
   "outputs": [],
   "source": []
  }
 ]
}